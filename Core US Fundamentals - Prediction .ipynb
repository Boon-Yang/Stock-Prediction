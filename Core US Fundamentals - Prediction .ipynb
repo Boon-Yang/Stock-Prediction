{
 "cells": [
  {
   "cell_type": "code",
   "execution_count": 1,
   "metadata": {},
   "outputs": [],
   "source": [
    "import numpy as np \n",
    "import pandas as pd\n",
    "import quandl\n",
    "import matplotlib.pyplot as plt\n",
    "from sklearn import preprocessing"
   ]
  },
  {
   "cell_type": "code",
   "execution_count": 2,
   "metadata": {},
   "outputs": [],
   "source": [
    "quandl.ApiConfig.api_key = \"y8s4u9YiKARZizCY5xWR\"\n"
   ]
  },
  {
   "cell_type": "code",
   "execution_count": 72,
   "metadata": {},
   "outputs": [],
   "source": [
    "# Getting data \n",
    "data = quandl.get_table('SHARADAR/SF1', ticker='ALXN')\n"
   ]
  },
  {
   "cell_type": "code",
   "execution_count": 73,
   "metadata": {},
   "outputs": [
    {
     "name": "stderr",
     "output_type": "stream",
     "text": [
      "C:\\Users\\Boon Yang\\Anaconda3\\lib\\site-packages\\pandas\\core\\frame.py:3787: SettingWithCopyWarning: \n",
      "A value is trying to be set on a copy of a slice from a DataFrame\n",
      "\n",
      "See the caveats in the documentation: http://pandas.pydata.org/pandas-docs/stable/indexing.html#indexing-view-versus-copy\n",
      "  downcast=downcast, **kwargs)\n"
     ]
    }
   ],
   "source": [
    "# Process data #liabilities\n",
    "Matrix = data[['eps', 'dps', 'roe', 'liabilities', 'price']] \n",
    "for i in ['eps', 'dps', 'roe', 'liabilities', 'price']:\n",
    "    Matrix.fillna(Matrix[i].mean(), inplace = True)"
   ]
  },
  {
   "cell_type": "code",
   "execution_count": 74,
   "metadata": {},
   "outputs": [
    {
     "name": "stderr",
     "output_type": "stream",
     "text": [
      "C:\\Users\\Boon Yang\\Anaconda3\\lib\\site-packages\\ipykernel_launcher.py:4: SettingWithCopyWarning: \n",
      "A value is trying to be set on a copy of a slice from a DataFrame.\n",
      "Try using .loc[row_indexer,col_indexer] = value instead\n",
      "\n",
      "See the caveats in the documentation: http://pandas.pydata.org/pandas-docs/stable/indexing.html#indexing-view-versus-copy\n",
      "  after removing the cwd from sys.path.\n",
      "C:\\Users\\Boon Yang\\Anaconda3\\lib\\site-packages\\ipykernel_launcher.py:5: SettingWithCopyWarning: \n",
      "A value is trying to be set on a copy of a slice from a DataFrame.\n",
      "Try using .loc[row_indexer,col_indexer] = value instead\n",
      "\n",
      "See the caveats in the documentation: http://pandas.pydata.org/pandas-docs/stable/indexing.html#indexing-view-versus-copy\n",
      "  \"\"\"\n",
      "C:\\Users\\Boon Yang\\Anaconda3\\lib\\site-packages\\ipykernel_launcher.py:6: SettingWithCopyWarning: \n",
      "A value is trying to be set on a copy of a slice from a DataFrame.\n",
      "Try using .loc[row_indexer,col_indexer] = value instead\n",
      "\n",
      "See the caveats in the documentation: http://pandas.pydata.org/pandas-docs/stable/indexing.html#indexing-view-versus-copy\n",
      "  \n",
      "C:\\Users\\Boon Yang\\Anaconda3\\lib\\site-packages\\ipykernel_launcher.py:7: SettingWithCopyWarning: \n",
      "A value is trying to be set on a copy of a slice from a DataFrame.\n",
      "Try using .loc[row_indexer,col_indexer] = value instead\n",
      "\n",
      "See the caveats in the documentation: http://pandas.pydata.org/pandas-docs/stable/indexing.html#indexing-view-versus-copy\n",
      "  import sys\n",
      "C:\\Users\\Boon Yang\\Anaconda3\\lib\\site-packages\\ipykernel_launcher.py:8: SettingWithCopyWarning: \n",
      "A value is trying to be set on a copy of a slice from a DataFrame.\n",
      "Try using .loc[row_indexer,col_indexer] = value instead\n",
      "\n",
      "See the caveats in the documentation: http://pandas.pydata.org/pandas-docs/stable/indexing.html#indexing-view-versus-copy\n",
      "  \n"
     ]
    },
    {
     "data": {
      "text/html": [
       "<div>\n",
       "<style scoped>\n",
       "    .dataframe tbody tr th:only-of-type {\n",
       "        vertical-align: middle;\n",
       "    }\n",
       "\n",
       "    .dataframe tbody tr th {\n",
       "        vertical-align: top;\n",
       "    }\n",
       "\n",
       "    .dataframe thead th {\n",
       "        text-align: right;\n",
       "    }\n",
       "</style>\n",
       "<table border=\"1\" class=\"dataframe\">\n",
       "  <thead>\n",
       "    <tr style=\"text-align: right;\">\n",
       "      <th></th>\n",
       "      <th>eps</th>\n",
       "      <th>dps</th>\n",
       "      <th>roe</th>\n",
       "      <th>liabilities</th>\n",
       "      <th>price</th>\n",
       "    </tr>\n",
       "    <tr>\n",
       "      <th>None</th>\n",
       "      <th></th>\n",
       "      <th></th>\n",
       "      <th></th>\n",
       "      <th></th>\n",
       "      <th></th>\n",
       "    </tr>\n",
       "  </thead>\n",
       "  <tbody>\n",
       "    <tr>\n",
       "      <th>0</th>\n",
       "      <td>0.750466</td>\n",
       "      <td>0.0</td>\n",
       "      <td>0.800519</td>\n",
       "      <td>0.957155</td>\n",
       "      <td>0.601540</td>\n",
       "    </tr>\n",
       "    <tr>\n",
       "      <th>1</th>\n",
       "      <td>0.713222</td>\n",
       "      <td>0.0</td>\n",
       "      <td>0.799870</td>\n",
       "      <td>0.930482</td>\n",
       "      <td>0.615666</td>\n",
       "    </tr>\n",
       "    <tr>\n",
       "      <th>2</th>\n",
       "      <td>0.508380</td>\n",
       "      <td>0.0</td>\n",
       "      <td>0.790788</td>\n",
       "      <td>0.987318</td>\n",
       "      <td>0.965759</td>\n",
       "    </tr>\n",
       "    <tr>\n",
       "      <th>3</th>\n",
       "      <td>1.000000</td>\n",
       "      <td>0.0</td>\n",
       "      <td>0.855336</td>\n",
       "      <td>0.183657</td>\n",
       "      <td>0.936482</td>\n",
       "    </tr>\n",
       "    <tr>\n",
       "      <th>4</th>\n",
       "      <td>0.621974</td>\n",
       "      <td>0.0</td>\n",
       "      <td>0.820629</td>\n",
       "      <td>0.190937</td>\n",
       "      <td>0.669582</td>\n",
       "    </tr>\n",
       "  </tbody>\n",
       "</table>\n",
       "</div>"
      ],
      "text/plain": [
       "           eps  dps       roe  liabilities     price\n",
       "None                                                \n",
       "0     0.750466  0.0  0.800519     0.957155  0.601540\n",
       "1     0.713222  0.0  0.799870     0.930482  0.615666\n",
       "2     0.508380  0.0  0.790788     0.987318  0.965759\n",
       "3     1.000000  0.0  0.855336     0.183657  0.936482\n",
       "4     0.621974  0.0  0.820629     0.190937  0.669582"
      ]
     },
     "execution_count": 74,
     "metadata": {},
     "output_type": "execute_result"
    }
   ],
   "source": [
    "# normalise data\n",
    "def normalize_data(df):\n",
    "    min_max_scaler = preprocessing.MinMaxScaler()\n",
    "    df['eps'] = min_max_scaler.fit_transform(df.eps.values.reshape(-1,1))\n",
    "    df['dps'] = min_max_scaler.fit_transform(df.dps.values.reshape(-1,1))\n",
    "    df['liabilities'] = min_max_scaler.fit_transform(df.liabilities.values.reshape(-1,1))\n",
    "    df['roe'] = min_max_scaler.fit_transform(df.roe.values.reshape(-1,1))\n",
    "    df['price'] = min_max_scaler.fit_transform(df['price'].values.reshape(-1,1))\n",
    "    return df\n",
    "data2 = normalize_data(Matrix)\n",
    "data2.head()"
   ]
  },
  {
   "cell_type": "code",
   "execution_count": 6,
   "metadata": {},
   "outputs": [],
   "source": [
    "#Split data into training set and test(validation set)\n",
    "def load_data(stock, seq_len):\n",
    "    amount_of_features = len(stock.columns) # 5\n",
    "    data = stock.as_matrix() \n",
    "    sequence_length = seq_len + 1 # index starting from 0\n",
    "    result = []\n",
    "    \n",
    "    for index in range(len(data) - sequence_length): # maxmimum date = lastest date - sequence length\n",
    "        result.append(data[index: index + sequence_length]) # index : index + 22days\n",
    "    \n",
    "    result = np.array(result)\n",
    "    row = round(0.9 * result.shape[0]) # 90% split\n",
    "    train = result[:int(row), :] # 90% date, all features \n",
    "    \n",
    "    x_train = train[:, :-1] \n",
    "    y_train = train[:, -1][:,-1]\n",
    "    \n",
    "    x_test = result[int(row):, :-1] \n",
    "    y_test = result[int(row):, -1][:,-1]\n",
    "\n",
    "    x_train = np.reshape(x_train, (x_train.shape[0], x_train.shape[1], amount_of_features))\n",
    "    x_test = np.reshape(x_test, (x_test.shape[0], x_test.shape[1], amount_of_features))  \n",
    "\n",
    "    return [x_train, y_train, x_test, y_test]\n"
   ]
  },
  {
   "cell_type": "code",
   "execution_count": 7,
   "metadata": {},
   "outputs": [
    {
     "name": "stderr",
     "output_type": "stream",
     "text": [
      "C:\\Users\\Boon Yang\\Anaconda3\\lib\\site-packages\\h5py\\__init__.py:36: FutureWarning: Conversion of the second argument of issubdtype from `float` to `np.floating` is deprecated. In future, it will be treated as `np.float64 == np.dtype(float).type`.\n",
      "  from ._conv import register_converters as _register_converters\n",
      "Using TensorFlow backend.\n"
     ]
    }
   ],
   "source": [
    "# importing depedndancies for the model \n",
    "from keras.models import Sequential\n",
    "from keras.layers.core import Dense, Dropout, Activation\n",
    "from keras.layers.recurrent import LSTM\n",
    "from keras.models import load_model\n"
   ]
  },
  {
   "cell_type": "code",
   "execution_count": 8,
   "metadata": {},
   "outputs": [],
   "source": [
    "import math,time"
   ]
  },
  {
   "cell_type": "code",
   "execution_count": 9,
   "metadata": {},
   "outputs": [],
   "source": [
    "def build_model(layers):\n",
    "    d = 0.3\n",
    "    model = Sequential()\n",
    "    \n",
    "    model.add(LSTM(256, input_shape=(layers[1], layers[0]), return_sequences=True))\n",
    "    model.add(Dropout(d))\n",
    "    \n",
    "    model.add(LSTM(256, input_shape=(layers[1], layers[0]), return_sequences=True))\n",
    "    model.add(Dropout(d))\n",
    "        \n",
    "    model.add(LSTM(256, input_shape=(layers[1], layers[0]), return_sequences=False))\n",
    "    model.add(Dropout(d))\n",
    "        \n",
    "    model.add(Dense(32,kernel_initializer=\"uniform\",activation='relu'))        \n",
    "    model.add(Dense(1,kernel_initializer=\"uniform\",activation='linear'))\n",
    "    \n",
    "    # adam = keras.optimizers.Adam(decay=0.2)\n",
    "        \n",
    "    start = time.time()\n",
    "    model.compile(loss='mse',optimizer='adam', metrics=['accuracy'])\n",
    "    print(\"Compilation Time : \", time.time() - start)\n",
    "    return model\n"
   ]
  },
  {
   "cell_type": "code",
   "execution_count": 75,
   "metadata": {},
   "outputs": [
    {
     "name": "stdout",
     "output_type": "stream",
     "text": [
      "[[0.75046555 0.         0.80051898 0.95715515 0.60153959]\n",
      " [0.7132216  0.         0.79987026 0.93048248 0.61566612]\n",
      " [0.50837989 0.         0.79078819 0.98731752 0.96575851]\n",
      " [1.         0.         0.85533571 0.18365657 0.93648178]\n",
      " [0.62197393 0.         0.82062926 0.19093656 0.6695824 ]\n",
      " [0.63128492 0.         0.83295491 0.1311614  0.46923128]\n",
      " [0.56052142 0.         0.84041518 0.0531125  0.35540007]\n",
      " [0.48230912 0.         0.82354849 0.03108091 0.19558085]\n",
      " [0.70391061 0.         1.         0.02000859 0.11437887]\n",
      " [0.42178771 0.         0.8498216  0.04704962 0.08205674]\n",
      " [0.26350093 0.         0.48459293 0.04750899 0.08545018]\n",
      " [0.18901304 0.         0.04508596 0.04262322 0.04112562]\n",
      " [0.20018622 0.         0.4904314  0.03682564 0.02276112]\n",
      " [0.22197393 0.         0.61076873 0.03000992 0.0098118 ]\n",
      " [0.16573557 0.         0.60428154 0.02998707 0.01094806]] 0.009284613849122462\n"
     ]
    },
    {
     "name": "stderr",
     "output_type": "stream",
     "text": [
      "C:\\Users\\Boon Yang\\Anaconda3\\lib\\site-packages\\ipykernel_launcher.py:4: FutureWarning: Method .as_matrix will be removed in a future version. Use .values instead.\n",
      "  after removing the cwd from sys.path.\n"
     ]
    }
   ],
   "source": [
    "window = 15\n",
    "X_train, y_train, X_test, y_test = load_data(data2, window)\n",
    "print (X_train[0], y_train[0])"
   ]
  },
  {
   "cell_type": "code",
   "execution_count": 11,
   "metadata": {},
   "outputs": [
    {
     "name": "stdout",
     "output_type": "stream",
     "text": [
      "Compilation Time :  0.06821393966674805\n"
     ]
    }
   ],
   "source": [
    "model = build_model([5,window,1])"
   ]
  },
  {
   "cell_type": "code",
   "execution_count": null,
   "metadata": {},
   "outputs": [
    {
     "name": "stdout",
     "output_type": "stream",
     "text": [
      "Train on 285 samples, validate on 32 samples\n",
      "Epoch 1/90\n",
      "285/285 [==============================] - 2s 7ms/step - loss: 0.1629 - acc: 0.0070 - val_loss: 0.0927 - val_acc: 0.0000e+00\n",
      "Epoch 2/90\n",
      "285/285 [==============================] - 2s 5ms/step - loss: 0.0970 - acc: 0.0070 - val_loss: 0.0559 - val_acc: 0.0000e+00\n",
      "Epoch 3/90\n",
      "285/285 [==============================] - 2s 6ms/step - loss: 0.0886 - acc: 0.0070 - val_loss: 0.0783 - val_acc: 0.0000e+00\n",
      "Epoch 4/90\n",
      "285/285 [==============================] - 2s 7ms/step - loss: 0.0901 - acc: 0.0070 - val_loss: 0.0874 - val_acc: 0.0000e+00\n",
      "Epoch 5/90\n",
      "285/285 [==============================] - 2s 5ms/step - loss: 0.0811 - acc: 0.0070 - val_loss: 0.0799 - val_acc: 0.0000e+00\n",
      "Epoch 6/90\n",
      "285/285 [==============================] - 1s 5ms/step - loss: 0.0747 - acc: 0.0070 - val_loss: 0.0708 - val_acc: 0.0000e+00\n",
      "Epoch 7/90\n",
      "285/285 [==============================] - 1s 5ms/step - loss: 0.0649 - acc: 0.0070 - val_loss: 0.0594 - val_acc: 0.0000e+00\n",
      "Epoch 8/90\n",
      "285/285 [==============================] - 2s 5ms/step - loss: 0.0589 - acc: 0.0070 - val_loss: 0.0498 - val_acc: 0.0000e+00\n",
      "Epoch 9/90\n",
      "285/285 [==============================] - 2s 6ms/step - loss: 0.0519 - acc: 0.0070 - val_loss: 0.0480 - val_acc: 0.0000e+00\n",
      "Epoch 10/90\n",
      "285/285 [==============================] - 2s 7ms/step - loss: 0.0488 - acc: 0.0070 - val_loss: 0.0489 - val_acc: 0.0000e+00\n",
      "Epoch 11/90\n",
      "285/285 [==============================] - 2s 7ms/step - loss: 0.0465 - acc: 0.0070 - val_loss: 0.0460 - val_acc: 0.0000e+00\n",
      "Epoch 12/90\n",
      "285/285 [==============================] - 2s 7ms/step - loss: 0.0432 - acc: 0.0105 - val_loss: 0.0369 - val_acc: 0.0000e+00\n",
      "Epoch 13/90\n",
      "285/285 [==============================] - 2s 7ms/step - loss: 0.0364 - acc: 0.0140 - val_loss: 0.0258 - val_acc: 0.0000e+00\n",
      "Epoch 14/90\n",
      "285/285 [==============================] - 2s 7ms/step - loss: 0.0314 - acc: 0.0140 - val_loss: 0.0165 - val_acc: 0.0000e+00\n",
      "Epoch 15/90\n",
      "285/285 [==============================] - 2s 8ms/step - loss: 0.0250 - acc: 0.0140 - val_loss: 0.0159 - val_acc: 0.0000e+00\n",
      "Epoch 16/90\n",
      "285/285 [==============================] - 2s 6ms/step - loss: 0.0220 - acc: 0.0140 - val_loss: 0.0200 - val_acc: 0.0000e+00\n",
      "Epoch 17/90\n",
      "285/285 [==============================] - 2s 7ms/step - loss: 0.0236 - acc: 0.0140 - val_loss: 0.0227 - val_acc: 0.0000e+00\n",
      "Epoch 18/90\n",
      "285/285 [==============================] - 2s 7ms/step - loss: 0.0233 - acc: 0.0140 - val_loss: 0.0219 - val_acc: 0.0000e+00\n",
      "Epoch 19/90\n",
      "285/285 [==============================] - 2s 6ms/step - loss: 0.0241 - acc: 0.0140 - val_loss: 0.0188 - val_acc: 0.0000e+00\n",
      "Epoch 20/90\n",
      "285/285 [==============================] - 2s 6ms/step - loss: 0.0234 - acc: 0.0140 - val_loss: 0.0152 - val_acc: 0.0000e+00\n",
      "Epoch 21/90\n",
      "285/285 [==============================] - 2s 6ms/step - loss: 0.0240 - acc: 0.0140 - val_loss: 0.0123 - val_acc: 0.0000e+00\n",
      "Epoch 22/90\n",
      "285/285 [==============================] - 2s 6ms/step - loss: 0.0240 - acc: 0.0140 - val_loss: 0.0102 - val_acc: 0.0000e+00\n",
      "Epoch 23/90\n",
      "285/285 [==============================] - 2s 6ms/step - loss: 0.0198 - acc: 0.0140 - val_loss: 0.0089 - val_acc: 0.0000e+00\n",
      "Epoch 24/90\n",
      "285/285 [==============================] - 2s 8ms/step - loss: 0.0177 - acc: 0.0140 - val_loss: 0.0086 - val_acc: 0.0000e+00\n",
      "Epoch 25/90\n",
      "285/285 [==============================] - 2s 6ms/step - loss: 0.0165 - acc: 0.0140 - val_loss: 0.0088 - val_acc: 0.0000e+00\n",
      "Epoch 26/90\n",
      "285/285 [==============================] - 2s 7ms/step - loss: 0.0164 - acc: 0.0140 - val_loss: 0.0094 - val_acc: 0.0000e+00\n",
      "Epoch 27/90\n",
      "285/285 [==============================] - 2s 7ms/step - loss: 0.0145 - acc: 0.0140 - val_loss: 0.0099 - val_acc: 0.0000e+00\n",
      "Epoch 28/90\n",
      "285/285 [==============================] - 2s 6ms/step - loss: 0.0146 - acc: 0.0140 - val_loss: 0.0102 - val_acc: 0.0000e+00\n",
      "Epoch 29/90\n",
      "285/285 [==============================] - 2s 7ms/step - loss: 0.0156 - acc: 0.0140 - val_loss: 0.0103 - val_acc: 0.0000e+00\n",
      "Epoch 30/90\n",
      "285/285 [==============================] - 2s 6ms/step - loss: 0.0155 - acc: 0.0140 - val_loss: 0.0102 - val_acc: 0.0000e+00\n",
      "Epoch 31/90\n",
      "285/285 [==============================] - 2s 6ms/step - loss: 0.0155 - acc: 0.0140 - val_loss: 0.0102 - val_acc: 0.0000e+00\n",
      "Epoch 32/90\n",
      "285/285 [==============================] - 2s 6ms/step - loss: 0.0156 - acc: 0.0140 - val_loss: 0.0099 - val_acc: 0.0000e+00\n",
      "Epoch 33/90\n",
      "285/285 [==============================] - 2s 7ms/step - loss: 0.0148 - acc: 0.0140 - val_loss: 0.0094 - val_acc: 0.0000e+00\n",
      "Epoch 34/90\n",
      "285/285 [==============================] - 2s 7ms/step - loss: 0.0146 - acc: 0.0140 - val_loss: 0.0086 - val_acc: 0.0000e+00\n",
      "Epoch 35/90\n",
      "285/285 [==============================] - 2s 7ms/step - loss: 0.0135 - acc: 0.0140 - val_loss: 0.0077 - val_acc: 0.0000e+00\n",
      "Epoch 36/90\n",
      "285/285 [==============================] - 2s 8ms/step - loss: 0.0141 - acc: 0.0140 - val_loss: 0.0069 - val_acc: 0.0000e+00\n",
      "Epoch 37/90\n",
      "285/285 [==============================] - 2s 7ms/step - loss: 0.0137 - acc: 0.0140 - val_loss: 0.0063 - val_acc: 0.0000e+00\n",
      "Epoch 38/90\n",
      "285/285 [==============================] - 2s 6ms/step - loss: 0.0134 - acc: 0.0140 - val_loss: 0.0058 - val_acc: 0.0000e+00\n",
      "Epoch 39/90\n",
      "285/285 [==============================] - 2s 6ms/step - loss: 0.0130 - acc: 0.0140 - val_loss: 0.0054 - val_acc: 0.0000e+00\n",
      "Epoch 40/90\n",
      "285/285 [==============================] - 2s 6ms/step - loss: 0.0129 - acc: 0.0140 - val_loss: 0.0051 - val_acc: 0.0000e+00\n",
      "Epoch 41/90\n",
      "285/285 [==============================] - 2s 7ms/step - loss: 0.0128 - acc: 0.0140 - val_loss: 0.0047 - val_acc: 0.0000e+00\n",
      "Epoch 42/90\n",
      "285/285 [==============================] - 2s 6ms/step - loss: 0.0133 - acc: 0.0140 - val_loss: 0.0044 - val_acc: 0.0000e+00\n",
      "Epoch 43/90\n",
      "285/285 [==============================] - 2s 6ms/step - loss: 0.0126 - acc: 0.0140 - val_loss: 0.0041 - val_acc: 0.0000e+00\n",
      "Epoch 44/90\n",
      "285/285 [==============================] - 2s 6ms/step - loss: 0.0138 - acc: 0.0140 - val_loss: 0.0039 - val_acc: 0.0000e+00\n",
      "Epoch 45/90\n",
      "285/285 [==============================] - 2s 6ms/step - loss: 0.0119 - acc: 0.0140 - val_loss: 0.0040 - val_acc: 0.0000e+00\n",
      "Epoch 46/90\n",
      "285/285 [==============================] - 2s 6ms/step - loss: 0.0120 - acc: 0.0140 - val_loss: 0.0044 - val_acc: 0.0000e+00\n",
      "Epoch 47/90\n",
      "285/285 [==============================] - 2s 6ms/step - loss: 0.0116 - acc: 0.0140 - val_loss: 0.0046 - val_acc: 0.0000e+00\n",
      "Epoch 48/90\n",
      "285/285 [==============================] - 2s 6ms/step - loss: 0.0118 - acc: 0.0140 - val_loss: 0.0043 - val_acc: 0.0000e+00\n",
      "Epoch 49/90\n",
      "285/285 [==============================] - 2s 6ms/step - loss: 0.0123 - acc: 0.0140 - val_loss: 0.0037 - val_acc: 0.0000e+00\n",
      "Epoch 50/90\n",
      "285/285 [==============================] - 2s 6ms/step - loss: 0.0120 - acc: 0.0140 - val_loss: 0.0034 - val_acc: 0.0000e+00\n",
      "Epoch 51/90\n",
      "285/285 [==============================] - 2s 6ms/step - loss: 0.0116 - acc: 0.0140 - val_loss: 0.0034 - val_acc: 0.0000e+00\n",
      "Epoch 52/90\n",
      "285/285 [==============================] - 2s 6ms/step - loss: 0.0117 - acc: 0.0140 - val_loss: 0.0033 - val_acc: 0.0000e+00\n",
      "Epoch 53/90\n",
      "285/285 [==============================] - 2s 6ms/step - loss: 0.0113 - acc: 0.0140 - val_loss: 0.0032 - val_acc: 0.0000e+00\n",
      "Epoch 54/90\n",
      "285/285 [==============================] - 2s 6ms/step - loss: 0.0116 - acc: 0.0140 - val_loss: 0.0032 - val_acc: 0.0000e+00\n",
      "Epoch 55/90\n",
      "285/285 [==============================] - 2s 6ms/step - loss: 0.0109 - acc: 0.0140 - val_loss: 0.0032 - val_acc: 0.0000e+00\n",
      "Epoch 56/90\n",
      "285/285 [==============================] - 2s 6ms/step - loss: 0.0116 - acc: 0.0140 - val_loss: 0.0031 - val_acc: 0.0000e+00\n",
      "Epoch 57/90\n",
      "285/285 [==============================] - 2s 7ms/step - loss: 0.0115 - acc: 0.0140 - val_loss: 0.0030 - val_acc: 0.0000e+00\n",
      "Epoch 58/90\n",
      "285/285 [==============================] - 2s 7ms/step - loss: 0.0110 - acc: 0.0140 - val_loss: 0.0031 - val_acc: 0.0000e+00\n",
      "Epoch 59/90\n",
      "285/285 [==============================] - 2s 6ms/step - loss: 0.0108 - acc: 0.0140 - val_loss: 0.0032 - val_acc: 0.0000e+00\n",
      "Epoch 60/90\n",
      "285/285 [==============================] - 2s 7ms/step - loss: 0.0109 - acc: 0.0140 - val_loss: 0.0031 - val_acc: 0.0000e+00\n"
     ]
    },
    {
     "name": "stdout",
     "output_type": "stream",
     "text": [
      "Epoch 61/90\n",
      "285/285 [==============================] - 2s 7ms/step - loss: 0.0118 - acc: 0.0140 - val_loss: 0.0029 - val_acc: 0.0000e+00\n",
      "Epoch 62/90\n",
      "285/285 [==============================] - 2s 6ms/step - loss: 0.0110 - acc: 0.0140 - val_loss: 0.0027 - val_acc: 0.0000e+00\n",
      "Epoch 63/90\n",
      "285/285 [==============================] - 2s 6ms/step - loss: 0.0108 - acc: 0.0140 - val_loss: 0.0026 - val_acc: 0.0000e+00\n",
      "Epoch 64/90\n",
      "285/285 [==============================] - 2s 6ms/step - loss: 0.0108 - acc: 0.0140 - val_loss: 0.0025 - val_acc: 0.0000e+00\n",
      "Epoch 65/90\n",
      "285/285 [==============================] - 2s 7ms/step - loss: 0.0114 - acc: 0.0140 - val_loss: 0.0024 - val_acc: 0.0000e+00\n",
      "Epoch 66/90\n",
      "285/285 [==============================] - 2s 7ms/step - loss: 0.0110 - acc: 0.0140 - val_loss: 0.0025 - val_acc: 0.0000e+00\n",
      "Epoch 67/90\n",
      "285/285 [==============================] - 2s 6ms/step - loss: 0.0104 - acc: 0.0140 - val_loss: 0.0025 - val_acc: 0.0000e+00\n",
      "Epoch 68/90\n",
      "285/285 [==============================] - 2s 6ms/step - loss: 0.0104 - acc: 0.0140 - val_loss: 0.0024 - val_acc: 0.0000e+00\n",
      "Epoch 69/90\n",
      "285/285 [==============================] - 2s 6ms/step - loss: 0.0114 - acc: 0.0140 - val_loss: 0.0023 - val_acc: 0.0000e+00\n",
      "Epoch 70/90\n",
      "285/285 [==============================] - 2s 6ms/step - loss: 0.0111 - acc: 0.0140 - val_loss: 0.0023 - val_acc: 0.0000e+00\n",
      "Epoch 71/90\n",
      "285/285 [==============================] - 2s 6ms/step - loss: 0.0107 - acc: 0.0140 - val_loss: 0.0023 - val_acc: 0.0000e+00\n",
      "Epoch 72/90\n",
      "285/285 [==============================] - 2s 6ms/step - loss: 0.0106 - acc: 0.0140 - val_loss: 0.0023 - val_acc: 0.0000e+00\n",
      "Epoch 73/90\n",
      "285/285 [==============================] - 2s 7ms/step - loss: 0.0098 - acc: 0.0140 - val_loss: 0.0022 - val_acc: 0.0000e+00\n",
      "Epoch 74/90\n",
      "285/285 [==============================] - 2s 7ms/step - loss: 0.0108 - acc: 0.0140 - val_loss: 0.0022 - val_acc: 0.0000e+00\n",
      "Epoch 75/90\n",
      "285/285 [==============================] - 2s 7ms/step - loss: 0.0103 - acc: 0.0140 - val_loss: 0.0022 - val_acc: 0.0000e+00\n",
      "Epoch 76/90\n",
      "285/285 [==============================] - 2s 7ms/step - loss: 0.0099 - acc: 0.0140 - val_loss: 0.0022 - val_acc: 0.0000e+00\n",
      "Epoch 77/90\n",
      "285/285 [==============================] - 2s 7ms/step - loss: 0.0099 - acc: 0.0140 - val_loss: 0.0022 - val_acc: 0.0000e+00\n",
      "Epoch 78/90\n",
      "285/285 [==============================] - 2s 6ms/step - loss: 0.0098 - acc: 0.0140 - val_loss: 0.0021 - val_acc: 0.0000e+00\n",
      "Epoch 79/90\n",
      "285/285 [==============================] - 2s 6ms/step - loss: 0.0107 - acc: 0.0140 - val_loss: 0.0021 - val_acc: 0.0000e+00\n",
      "Epoch 80/90\n"
     ]
    }
   ],
   "source": [
    "model.fit(X_train,y_train,batch_size=512,epochs=90,validation_split=0.1,verbose=1)"
   ]
  },
  {
   "cell_type": "code",
   "execution_count": 70,
   "metadata": {},
   "outputs": [],
   "source": [
    "y_pred = model.predict(X_test)"
   ]
  },
  {
   "cell_type": "code",
   "execution_count": 71,
   "metadata": {},
   "outputs": [
    {
     "data": {
      "image/png": "[encoded data removed]",
      "text/plain": [
       "<Figure size 432x288 with 1 Axes>"
      ]
     },
     "metadata": {},
     "output_type": "display_data"
    }
   ],
   "source": [
    "import matplotlib.pyplot as plt2\n",
    "\n",
    "plt2.plot(y_pred,color='red', label='Prediction')\n",
    "plt2.plot(y_test,color='blue', label='Actual')\n",
    "plt2.legend(loc='best')\n",
    "plt2.show()\n",
    "\n"
   ]
  },
  {
   "cell_type": "code",
   "execution_count": null,
   "metadata": {},
   "outputs": [],
   "source": []
  },
  {
   "cell_type": "code",
   "execution_count": null,
   "metadata": {},
   "outputs": [],
   "source": []
  },
  {
   "cell_type": "code",
   "execution_count": null,
   "metadata": {},
   "outputs": [],
   "source": []
  },
  {
   "cell_type": "code",
   "execution_count": null,
   "metadata": {},
   "outputs": [],
   "source": []
  },
  {
   "cell_type": "code",
   "execution_count": null,
   "metadata": {},
   "outputs": [],
   "source": []
  },
  {
   "cell_type": "code",
   "execution_count": null,
   "metadata": {},
   "outputs": [],
   "source": []
  },
  {
   "cell_type": "code",
   "execution_count": null,
   "metadata": {},
   "outputs": [],
   "source": []
  },
  {
   "cell_type": "code",
   "execution_count": null,
   "metadata": {},
   "outputs": [],
   "source": []
  },
  {
   "cell_type": "code",
   "execution_count": null,
   "metadata": {},
   "outputs": [],
   "source": []
  },
  {
   "cell_type": "code",
   "execution_count": null,
   "metadata": {},
   "outputs": [],
   "source": []
  },
  {
   "cell_type": "code",
   "execution_count": null,
   "metadata": {},
   "outputs": [],
   "source": []
  }
 ],
 "metadata": {
  "kernelspec": {
   "display_name": "Python 3",
   "language": "python",
   "name": "python3"
  },
  "language_info": {
   "codemirror_mode": {
    "name": "ipython",
    "version": 3
   },
   "file_extension": ".py",
   "mimetype": "text/x-python",
   "name": "python",
   "nbconvert_exporter": "python",
   "pygments_lexer": "ipython3",
   "version": "3.6.6"
  }
 },
 "nbformat": 4,
 "nbformat_minor": 2
}
